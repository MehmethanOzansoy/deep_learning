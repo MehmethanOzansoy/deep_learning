{
 "cells": [
  {
   "cell_type": "code",
   "execution_count": 1,
   "id": "33faa429",
   "metadata": {},
   "outputs": [
    {
     "name": "stdout",
     "output_type": "stream",
     "text": [
      "   ulke  boy  kilo  yas cinsiyet\n",
      "0    tr  130    30   10        e\n",
      "1    tr  125    36   11        e\n",
      "2    tr  135    34   10        k\n",
      "3    tr  133    30    9        k\n",
      "4    tr  129    38   12        e\n",
      "5    tr  180    90   30        e\n",
      "6    tr  190    80   25        e\n",
      "7    tr  175    90   35        e\n",
      "8    tr  177    60   22        k\n",
      "9    us  185   105   33        e\n",
      "10   us  165    55   27        k\n",
      "11   us  155    50   44        k\n",
      "12   us  160    58   39        k\n",
      "13   us  162    59   41        k\n",
      "14   us  167    62   55        k\n",
      "15   fr  174    70   47        e\n",
      "16   fr  193    90   23        e\n",
      "17   fr  187    80   27        e\n",
      "18   fr  183    88   28        e\n",
      "19   fr  159    40   29        k\n",
      "20   fr  164    66   32        k\n",
      "21   fr  166    56   42        k\n",
      "<class 'pandas.core.frame.DataFrame'>\n",
      "RangeIndex: 22 entries, 0 to 21\n",
      "Data columns (total 5 columns):\n",
      " #   Column    Non-Null Count  Dtype \n",
      "---  ------    --------------  ----- \n",
      " 0   ulke      22 non-null     object\n",
      " 1   boy       22 non-null     int64 \n",
      " 2   kilo      22 non-null     int64 \n",
      " 3   yas       22 non-null     int64 \n",
      " 4   cinsiyet  22 non-null     object\n",
      "dtypes: int64(3), object(2)\n",
      "memory usage: 1008.0+ bytes\n",
      "['e' 'e' 'k' 'k' 'e' 'e' 'e' 'e' 'k' 'e' 'k' 'k' 'k' 'k' 'k' 'e' 'e' 'e'\n",
      " 'e' 'k' 'k' 'k']\n",
      "[[1 0]\n",
      " [3 4]]\n",
      "0.625\n",
      "cm [[1 0]\n",
      " [7 0]]\n",
      "acc 0.125\n"
     ]
    },
    {
     "name": "stderr",
     "output_type": "stream",
     "text": [
      "C:\\ProgramData\\Anaconda3\\lib\\site-packages\\sklearn\\neighbors\\_classification.py:228: FutureWarning: Unlike other reduction functions (e.g. `skew`, `kurtosis`), the default behavior of `mode` typically preserves the axis it acts along. In SciPy 1.11.0, this behavior will change: the default value of `keepdims` will become False, the `axis` over which the statistic is taken will be eliminated, and the value None will no longer be accepted. Set `keepdims` to True or False to avoid this warning.\n",
      "  mode, _ = stats.mode(_y[neigh_ind, k], axis=1)\n"
     ]
    }
   ],
   "source": [
    "import numpy as np\n",
    "import matplotlib.pyplot as plt\n",
    "import pandas as pd\n",
    "veriler = pd.read_csv(\"veriler.csv\")\n",
    "print(veriler)\n",
    "veriler.info()\n",
    "from sklearn.preprocessing import OneHotEncoder\n",
    "ulke = veriler[['ulke']].values\n",
    "lb_cod = OneHotEncoder()\n",
    "ulke = lb_cod.fit_transform(ulke).toarray()\n",
    "veriler1 = veriler.drop(columns=['ulke'],axis=1)\n",
    "ulke = pd.DataFrame(data=ulke,index=range(22),columns=['tr','us','fr'])\n",
    "sonveriler = pd.concat([ulke,veriler1],axis=1)\n",
    "sonveriler\n",
    "x = sonveriler.iloc[:,0:6].values\n",
    "x\n",
    "y = sonveriler.iloc[:,-1].values\n",
    "print(y)\n",
    "from sklearn.model_selection import train_test_split\n",
    "x_train,x_test,y_train,y_test = train_test_split(x,y,test_size=0.33,random_state=0)\n",
    "from sklearn.preprocessing import StandardScaler\n",
    "sc = StandardScaler()\n",
    "X_train = sc.fit_transform(x_train)\n",
    "X_test = sc.transform(x_test)\n",
    "from sklearn.neighbors import KNeighborsClassifier\n",
    "\n",
    "knn = KNeighborsClassifier(n_neighbors=1,leaf_size=30,weights='uniform',metric='minkowski')\n",
    "knn.fit(X_train,y_train)\n",
    "y_pred1 = knn.predict(X_test)\n",
    "\n",
    "from sklearn.metrics import confusion_matrix,accuracy_score\n",
    "cm = confusion_matrix(y_test,y_pred1)\n",
    "print(cm)\n",
    "acc = accuracy_score(y_test,y_pred1)\n",
    "print(acc)\n",
    "from sklearn.naive_bayes import GaussianNB\n",
    "gnb = GaussianNB()\n",
    "gnb.fit(X_train,y_train)\n",
    "y_pred = gnb.predict(x_test)\n",
    "cm = confusion_matrix(y_test,y_pred)\n",
    "acc = accuracy_score(y_test,y_pred)\n",
    "print(\"cm\",cm)\n",
    "print(\"acc\",acc)"
   ]
  },
  {
   "cell_type": "code",
   "execution_count": 2,
   "id": "b4d2d3d6",
   "metadata": {},
   "outputs": [],
   "source": [
    "from sklearn.tree import DecisionTreeClassifier"
   ]
  },
  {
   "cell_type": "code",
   "execution_count": 4,
   "id": "09e201df",
   "metadata": {},
   "outputs": [],
   "source": [
    "dtc = DecisionTreeClassifier(criterion='entropy');"
   ]
  },
  {
   "cell_type": "code",
   "execution_count": 6,
   "id": "3e630104",
   "metadata": {},
   "outputs": [],
   "source": [
    "y_pred_dtc = dtc.fit(X_train,y_train).predict(X_test)"
   ]
  },
  {
   "cell_type": "code",
   "execution_count": 8,
   "id": "1170f1d2",
   "metadata": {},
   "outputs": [
    {
     "name": "stdout",
     "output_type": "stream",
     "text": [
      "cm [[1 0]\n",
      " [1 6]]\n",
      "acc 0.875\n"
     ]
    }
   ],
   "source": [
    "con = confusion_matrix(y_test,y_pred_dtc)\n",
    "con \n",
    "acc = accuracy_score(y_test,y_pred_dtc)\n",
    "print(\"cm\",con)\n",
    "print(\"acc\",acc)"
   ]
  },
  {
   "cell_type": "code",
   "execution_count": null,
   "id": "a3a03d93",
   "metadata": {},
   "outputs": [],
   "source": []
  }
 ],
 "metadata": {
  "kernelspec": {
   "display_name": "Python 3 (ipykernel)",
   "language": "python",
   "name": "python3"
  },
  "language_info": {
   "codemirror_mode": {
    "name": "ipython",
    "version": 3
   },
   "file_extension": ".py",
   "mimetype": "text/x-python",
   "name": "python",
   "nbconvert_exporter": "python",
   "pygments_lexer": "ipython3",
   "version": "3.9.13"
  }
 },
 "nbformat": 4,
 "nbformat_minor": 5
}
