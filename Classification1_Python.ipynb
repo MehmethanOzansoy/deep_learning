{
 "cells": [
  {
   "cell_type": "code",
   "execution_count": 2,
   "id": "384e4ef5",
   "metadata": {},
   "outputs": [],
   "source": [
    "import numpy as np\n",
    "import matplotlib.pyplot as plt\n",
    "import pandas as pd"
   ]
  },
  {
   "cell_type": "code",
   "execution_count": 32,
   "id": "9a854a6c",
   "metadata": {},
   "outputs": [
    {
     "name": "stdout",
     "output_type": "stream",
     "text": [
      "   ulke  boy  kilo  yas cinsiyet\n",
      "0    tr  130    30   10        e\n",
      "1    tr  125    36   11        e\n",
      "2    tr  135    34   10        k\n",
      "3    tr  133    30    9        k\n",
      "4    tr  129    38   12        e\n",
      "5    tr  180    90   30        e\n",
      "6    tr  190    80   25        e\n",
      "7    tr  175    90   35        e\n",
      "8    tr  177    60   22        k\n",
      "9    us  185   105   33        e\n",
      "10   us  165    55   27        k\n",
      "11   us  155    50   44        k\n",
      "12   us  160    58   39        k\n",
      "13   us  162    59   41        k\n",
      "14   us  167    62   55        k\n",
      "15   fr  174    70   47        e\n",
      "16   fr  193    90   23        e\n",
      "17   fr  187    80   27        e\n",
      "18   fr  183    88   28        e\n",
      "19   fr  159    40   29        k\n",
      "20   fr  164    66   32        k\n",
      "21   fr  166    56   42        k\n",
      "<class 'pandas.core.frame.DataFrame'>\n",
      "RangeIndex: 22 entries, 0 to 21\n",
      "Data columns (total 5 columns):\n",
      " #   Column    Non-Null Count  Dtype \n",
      "---  ------    --------------  ----- \n",
      " 0   ulke      22 non-null     object\n",
      " 1   boy       22 non-null     int64 \n",
      " 2   kilo      22 non-null     int64 \n",
      " 3   yas       22 non-null     int64 \n",
      " 4   cinsiyet  22 non-null     object\n",
      "dtypes: int64(3), object(2)\n",
      "memory usage: 1008.0+ bytes\n"
     ]
    }
   ],
   "source": [
    "veriler = pd.read_csv(\"veriler.csv\")\n",
    "print(veriler)\n",
    "veriler.info()"
   ]
  },
  {
   "cell_type": "code",
   "execution_count": 33,
   "id": "456cf35a",
   "metadata": {},
   "outputs": [],
   "source": [
    "from sklearn.preprocessing import OneHotEncoder\n",
    "ulke = veriler[['ulke']].values\n",
    "lb_cod = OneHotEncoder()"
   ]
  },
  {
   "cell_type": "code",
   "execution_count": 34,
   "id": "f4dc86b3",
   "metadata": {},
   "outputs": [],
   "source": [
    "ulke = lb_cod.fit_transform(ulke).toarray()"
   ]
  },
  {
   "cell_type": "code",
   "execution_count": 35,
   "id": "1f528615",
   "metadata": {},
   "outputs": [],
   "source": [
    "veriler1 = veriler.drop(columns=['ulke'],axis=1)"
   ]
  },
  {
   "cell_type": "code",
   "execution_count": 36,
   "id": "50789dc1",
   "metadata": {},
   "outputs": [
    {
     "data": {
      "text/html": [
       "<div>\n",
       "<style scoped>\n",
       "    .dataframe tbody tr th:only-of-type {\n",
       "        vertical-align: middle;\n",
       "    }\n",
       "\n",
       "    .dataframe tbody tr th {\n",
       "        vertical-align: top;\n",
       "    }\n",
       "\n",
       "    .dataframe thead th {\n",
       "        text-align: right;\n",
       "    }\n",
       "</style>\n",
       "<table border=\"1\" class=\"dataframe\">\n",
       "  <thead>\n",
       "    <tr style=\"text-align: right;\">\n",
       "      <th></th>\n",
       "      <th>tr</th>\n",
       "      <th>us</th>\n",
       "      <th>fr</th>\n",
       "      <th>boy</th>\n",
       "      <th>kilo</th>\n",
       "      <th>yas</th>\n",
       "      <th>cinsiyet</th>\n",
       "    </tr>\n",
       "  </thead>\n",
       "  <tbody>\n",
       "    <tr>\n",
       "      <th>0</th>\n",
       "      <td>0.0</td>\n",
       "      <td>1.0</td>\n",
       "      <td>0.0</td>\n",
       "      <td>130</td>\n",
       "      <td>30</td>\n",
       "      <td>10</td>\n",
       "      <td>e</td>\n",
       "    </tr>\n",
       "    <tr>\n",
       "      <th>1</th>\n",
       "      <td>0.0</td>\n",
       "      <td>1.0</td>\n",
       "      <td>0.0</td>\n",
       "      <td>125</td>\n",
       "      <td>36</td>\n",
       "      <td>11</td>\n",
       "      <td>e</td>\n",
       "    </tr>\n",
       "    <tr>\n",
       "      <th>2</th>\n",
       "      <td>0.0</td>\n",
       "      <td>1.0</td>\n",
       "      <td>0.0</td>\n",
       "      <td>135</td>\n",
       "      <td>34</td>\n",
       "      <td>10</td>\n",
       "      <td>k</td>\n",
       "    </tr>\n",
       "    <tr>\n",
       "      <th>3</th>\n",
       "      <td>0.0</td>\n",
       "      <td>1.0</td>\n",
       "      <td>0.0</td>\n",
       "      <td>133</td>\n",
       "      <td>30</td>\n",
       "      <td>9</td>\n",
       "      <td>k</td>\n",
       "    </tr>\n",
       "    <tr>\n",
       "      <th>4</th>\n",
       "      <td>0.0</td>\n",
       "      <td>1.0</td>\n",
       "      <td>0.0</td>\n",
       "      <td>129</td>\n",
       "      <td>38</td>\n",
       "      <td>12</td>\n",
       "      <td>e</td>\n",
       "    </tr>\n",
       "    <tr>\n",
       "      <th>5</th>\n",
       "      <td>0.0</td>\n",
       "      <td>1.0</td>\n",
       "      <td>0.0</td>\n",
       "      <td>180</td>\n",
       "      <td>90</td>\n",
       "      <td>30</td>\n",
       "      <td>e</td>\n",
       "    </tr>\n",
       "    <tr>\n",
       "      <th>6</th>\n",
       "      <td>0.0</td>\n",
       "      <td>1.0</td>\n",
       "      <td>0.0</td>\n",
       "      <td>190</td>\n",
       "      <td>80</td>\n",
       "      <td>25</td>\n",
       "      <td>e</td>\n",
       "    </tr>\n",
       "    <tr>\n",
       "      <th>7</th>\n",
       "      <td>0.0</td>\n",
       "      <td>1.0</td>\n",
       "      <td>0.0</td>\n",
       "      <td>175</td>\n",
       "      <td>90</td>\n",
       "      <td>35</td>\n",
       "      <td>e</td>\n",
       "    </tr>\n",
       "    <tr>\n",
       "      <th>8</th>\n",
       "      <td>0.0</td>\n",
       "      <td>1.0</td>\n",
       "      <td>0.0</td>\n",
       "      <td>177</td>\n",
       "      <td>60</td>\n",
       "      <td>22</td>\n",
       "      <td>k</td>\n",
       "    </tr>\n",
       "    <tr>\n",
       "      <th>9</th>\n",
       "      <td>0.0</td>\n",
       "      <td>0.0</td>\n",
       "      <td>1.0</td>\n",
       "      <td>185</td>\n",
       "      <td>105</td>\n",
       "      <td>33</td>\n",
       "      <td>e</td>\n",
       "    </tr>\n",
       "    <tr>\n",
       "      <th>10</th>\n",
       "      <td>0.0</td>\n",
       "      <td>0.0</td>\n",
       "      <td>1.0</td>\n",
       "      <td>165</td>\n",
       "      <td>55</td>\n",
       "      <td>27</td>\n",
       "      <td>k</td>\n",
       "    </tr>\n",
       "    <tr>\n",
       "      <th>11</th>\n",
       "      <td>0.0</td>\n",
       "      <td>0.0</td>\n",
       "      <td>1.0</td>\n",
       "      <td>155</td>\n",
       "      <td>50</td>\n",
       "      <td>44</td>\n",
       "      <td>k</td>\n",
       "    </tr>\n",
       "    <tr>\n",
       "      <th>12</th>\n",
       "      <td>0.0</td>\n",
       "      <td>0.0</td>\n",
       "      <td>1.0</td>\n",
       "      <td>160</td>\n",
       "      <td>58</td>\n",
       "      <td>39</td>\n",
       "      <td>k</td>\n",
       "    </tr>\n",
       "    <tr>\n",
       "      <th>13</th>\n",
       "      <td>0.0</td>\n",
       "      <td>0.0</td>\n",
       "      <td>1.0</td>\n",
       "      <td>162</td>\n",
       "      <td>59</td>\n",
       "      <td>41</td>\n",
       "      <td>k</td>\n",
       "    </tr>\n",
       "    <tr>\n",
       "      <th>14</th>\n",
       "      <td>0.0</td>\n",
       "      <td>0.0</td>\n",
       "      <td>1.0</td>\n",
       "      <td>167</td>\n",
       "      <td>62</td>\n",
       "      <td>55</td>\n",
       "      <td>k</td>\n",
       "    </tr>\n",
       "    <tr>\n",
       "      <th>15</th>\n",
       "      <td>1.0</td>\n",
       "      <td>0.0</td>\n",
       "      <td>0.0</td>\n",
       "      <td>174</td>\n",
       "      <td>70</td>\n",
       "      <td>47</td>\n",
       "      <td>e</td>\n",
       "    </tr>\n",
       "    <tr>\n",
       "      <th>16</th>\n",
       "      <td>1.0</td>\n",
       "      <td>0.0</td>\n",
       "      <td>0.0</td>\n",
       "      <td>193</td>\n",
       "      <td>90</td>\n",
       "      <td>23</td>\n",
       "      <td>e</td>\n",
       "    </tr>\n",
       "    <tr>\n",
       "      <th>17</th>\n",
       "      <td>1.0</td>\n",
       "      <td>0.0</td>\n",
       "      <td>0.0</td>\n",
       "      <td>187</td>\n",
       "      <td>80</td>\n",
       "      <td>27</td>\n",
       "      <td>e</td>\n",
       "    </tr>\n",
       "    <tr>\n",
       "      <th>18</th>\n",
       "      <td>1.0</td>\n",
       "      <td>0.0</td>\n",
       "      <td>0.0</td>\n",
       "      <td>183</td>\n",
       "      <td>88</td>\n",
       "      <td>28</td>\n",
       "      <td>e</td>\n",
       "    </tr>\n",
       "    <tr>\n",
       "      <th>19</th>\n",
       "      <td>1.0</td>\n",
       "      <td>0.0</td>\n",
       "      <td>0.0</td>\n",
       "      <td>159</td>\n",
       "      <td>40</td>\n",
       "      <td>29</td>\n",
       "      <td>k</td>\n",
       "    </tr>\n",
       "    <tr>\n",
       "      <th>20</th>\n",
       "      <td>1.0</td>\n",
       "      <td>0.0</td>\n",
       "      <td>0.0</td>\n",
       "      <td>164</td>\n",
       "      <td>66</td>\n",
       "      <td>32</td>\n",
       "      <td>k</td>\n",
       "    </tr>\n",
       "    <tr>\n",
       "      <th>21</th>\n",
       "      <td>1.0</td>\n",
       "      <td>0.0</td>\n",
       "      <td>0.0</td>\n",
       "      <td>166</td>\n",
       "      <td>56</td>\n",
       "      <td>42</td>\n",
       "      <td>k</td>\n",
       "    </tr>\n",
       "  </tbody>\n",
       "</table>\n",
       "</div>"
      ],
      "text/plain": [
       "     tr   us   fr  boy  kilo  yas cinsiyet\n",
       "0   0.0  1.0  0.0  130    30   10        e\n",
       "1   0.0  1.0  0.0  125    36   11        e\n",
       "2   0.0  1.0  0.0  135    34   10        k\n",
       "3   0.0  1.0  0.0  133    30    9        k\n",
       "4   0.0  1.0  0.0  129    38   12        e\n",
       "5   0.0  1.0  0.0  180    90   30        e\n",
       "6   0.0  1.0  0.0  190    80   25        e\n",
       "7   0.0  1.0  0.0  175    90   35        e\n",
       "8   0.0  1.0  0.0  177    60   22        k\n",
       "9   0.0  0.0  1.0  185   105   33        e\n",
       "10  0.0  0.0  1.0  165    55   27        k\n",
       "11  0.0  0.0  1.0  155    50   44        k\n",
       "12  0.0  0.0  1.0  160    58   39        k\n",
       "13  0.0  0.0  1.0  162    59   41        k\n",
       "14  0.0  0.0  1.0  167    62   55        k\n",
       "15  1.0  0.0  0.0  174    70   47        e\n",
       "16  1.0  0.0  0.0  193    90   23        e\n",
       "17  1.0  0.0  0.0  187    80   27        e\n",
       "18  1.0  0.0  0.0  183    88   28        e\n",
       "19  1.0  0.0  0.0  159    40   29        k\n",
       "20  1.0  0.0  0.0  164    66   32        k\n",
       "21  1.0  0.0  0.0  166    56   42        k"
      ]
     },
     "execution_count": 36,
     "metadata": {},
     "output_type": "execute_result"
    }
   ],
   "source": [
    "ulke = pd.DataFrame(data=ulke,index=range(22),columns=['tr','us','fr'])\n",
    "sonveriler = pd.concat([ulke,veriler1],axis=1)\n",
    "sonveriler"
   ]
  },
  {
   "cell_type": "code",
   "execution_count": 39,
   "id": "03fbc491",
   "metadata": {},
   "outputs": [
    {
     "data": {
      "text/plain": [
       "array([[  0.,   1.,   0., 130.,  30.,  10.],\n",
       "       [  0.,   1.,   0., 125.,  36.,  11.],\n",
       "       [  0.,   1.,   0., 135.,  34.,  10.],\n",
       "       [  0.,   1.,   0., 133.,  30.,   9.],\n",
       "       [  0.,   1.,   0., 129.,  38.,  12.],\n",
       "       [  0.,   1.,   0., 180.,  90.,  30.],\n",
       "       [  0.,   1.,   0., 190.,  80.,  25.],\n",
       "       [  0.,   1.,   0., 175.,  90.,  35.],\n",
       "       [  0.,   1.,   0., 177.,  60.,  22.],\n",
       "       [  0.,   0.,   1., 185., 105.,  33.],\n",
       "       [  0.,   0.,   1., 165.,  55.,  27.],\n",
       "       [  0.,   0.,   1., 155.,  50.,  44.],\n",
       "       [  0.,   0.,   1., 160.,  58.,  39.],\n",
       "       [  0.,   0.,   1., 162.,  59.,  41.],\n",
       "       [  0.,   0.,   1., 167.,  62.,  55.],\n",
       "       [  1.,   0.,   0., 174.,  70.,  47.],\n",
       "       [  1.,   0.,   0., 193.,  90.,  23.],\n",
       "       [  1.,   0.,   0., 187.,  80.,  27.],\n",
       "       [  1.,   0.,   0., 183.,  88.,  28.],\n",
       "       [  1.,   0.,   0., 159.,  40.,  29.],\n",
       "       [  1.,   0.,   0., 164.,  66.,  32.],\n",
       "       [  1.,   0.,   0., 166.,  56.,  42.]])"
      ]
     },
     "execution_count": 39,
     "metadata": {},
     "output_type": "execute_result"
    }
   ],
   "source": [
    "x = sonveriler.iloc[:,0:6].values\n",
    "x"
   ]
  },
  {
   "cell_type": "code",
   "execution_count": 41,
   "id": "14bfe4fc",
   "metadata": {},
   "outputs": [
    {
     "name": "stdout",
     "output_type": "stream",
     "text": [
      "['e' 'e' 'k' 'k' 'e' 'e' 'e' 'e' 'k' 'e' 'k' 'k' 'k' 'k' 'k' 'e' 'e' 'e'\n",
      " 'e' 'k' 'k' 'k']\n"
     ]
    }
   ],
   "source": [
    "y = sonveriler.iloc[:,-1].values\n",
    "print(y)"
   ]
  },
  {
   "cell_type": "code",
   "execution_count": 42,
   "id": "5af0f698",
   "metadata": {},
   "outputs": [],
   "source": [
    "from sklearn.model_selection import train_test_split\n",
    "x_train,x_test,y_train,y_test = train_test_split(x,y,test_size=0.33,random_state=0)"
   ]
  },
  {
   "cell_type": "code",
   "execution_count": 44,
   "id": "5998f47f",
   "metadata": {},
   "outputs": [],
   "source": [
    "from sklearn.preprocessing import StandardScaler\n",
    "sc = StandardScaler()\n",
    "X_train = sc.fit_transform(x_train)\n",
    "X_test = sc.transform(x_test)"
   ]
  },
  {
   "cell_type": "code",
   "execution_count": 45,
   "id": "be84406d",
   "metadata": {},
   "outputs": [
    {
     "data": {
      "text/plain": [
       "LogisticRegression(random_state=0)"
      ]
     },
     "execution_count": 45,
     "metadata": {},
     "output_type": "execute_result"
    }
   ],
   "source": [
    "from sklearn.linear_model import LogisticRegression\n",
    "log_reg = LogisticRegression(random_state=0)\n",
    "log_reg.fit(X_train,y_train)"
   ]
  },
  {
   "cell_type": "code",
   "execution_count": 46,
   "id": "2a76f199",
   "metadata": {},
   "outputs": [
    {
     "name": "stdout",
     "output_type": "stream",
     "text": [
      "['e' 'k' 'k' 'k' 'k' 'e' 'k' 'e']\n"
     ]
    }
   ],
   "source": [
    "y_pred = log_reg.predict(X_test)\n",
    "print(y_pred)"
   ]
  },
  {
   "cell_type": "code",
   "execution_count": 47,
   "id": "627f4a20",
   "metadata": {},
   "outputs": [
    {
     "name": "stdout",
     "output_type": "stream",
     "text": [
      "['k' 'k' 'k' 'k' 'e' 'k' 'k' 'k']\n"
     ]
    }
   ],
   "source": [
    "print(y_test)"
   ]
  },
  {
   "cell_type": "code",
   "execution_count": 48,
   "id": "d2b42c8a",
   "metadata": {},
   "outputs": [
    {
     "name": "stdout",
     "output_type": "stream",
     "text": [
      "[[0 1]\n",
      " [3 4]]\n"
     ]
    }
   ],
   "source": [
    "from sklearn.metrics import confusion_matrix\n",
    "cm = confusion_matrix(y_test,y_pred)\n",
    "print(cm)"
   ]
  },
  {
   "cell_type": "code",
   "execution_count": 50,
   "id": "aeb5cb76",
   "metadata": {},
   "outputs": [
    {
     "data": {
      "text/plain": [
       "0.5"
      ]
     },
     "execution_count": 50,
     "metadata": {},
     "output_type": "execute_result"
    }
   ],
   "source": [
    "from sklearn.metrics import accuracy_score\n",
    "accuracy_score(y_test, y_pred)"
   ]
  }
 ],
 "metadata": {
  "kernelspec": {
   "display_name": "Python 3 (ipykernel)",
   "language": "python",
   "name": "python3"
  },
  "language_info": {
   "codemirror_mode": {
    "name": "ipython",
    "version": 3
   },
   "file_extension": ".py",
   "mimetype": "text/x-python",
   "name": "python",
   "nbconvert_exporter": "python",
   "pygments_lexer": "ipython3",
   "version": "3.9.13"
  }
 },
 "nbformat": 4,
 "nbformat_minor": 5
}
